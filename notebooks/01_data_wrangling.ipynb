{
 "cells": [
  {
   "metadata": {
    "ExecuteTime": {
     "end_time": "2025-07-20T14:38:53.992762Z",
     "start_time": "2025-07-20T14:38:53.990760Z"
    }
   },
   "cell_type": "code",
   "source": [
    "import pandas as pd\n",
    "import os"
   ],
   "id": "ffe55c00-f8b0-4599-9258-5e42a57a788d",
   "outputs": [],
   "execution_count": 37
  },
  {
   "metadata": {
    "ExecuteTime": {
     "end_time": "2025-07-20T14:38:54.667003Z",
     "start_time": "2025-07-20T14:38:54.664315Z"
    }
   },
   "cell_type": "code",
   "source": [
    "# Step up to project root from /notebooks/\n",
    "project_root = os.path.abspath(os.path.join(os.getcwd(), \"..\"))\n",
    "\n",
    "# Use project_root to build paths\n",
    "raw_data_path = os.path.join(project_root, \"data\", \"raw\")\n",
    "processed_data_path = os.path.join(project_root, \"data\", \"processed\")\n",
    "\n",
    "food_file = os.path.join(raw_data_path, \"Food_Access_Raw.csv\")\n",
    "disease_file = os.path.join(raw_data_path, \"Chronic_Diseases_Raw.csv\")\n",
    "output_file = os.path.join(processed_data_path, \"merged_summary.csv\")"
   ],
   "id": "7b9324f4397bb7b9",
   "outputs": [],
   "execution_count": 38
  },
  {
   "metadata": {
    "ExecuteTime": {
     "end_time": "2025-07-20T14:38:56.795417Z",
     "start_time": "2025-07-20T14:38:55.435519Z"
    }
   },
   "cell_type": "code",
   "source": [
    "# Load datasets\n",
    "food_df = pd.read_csv(food_file, low_memory=False)\n",
    "disease_df = pd.read_csv(disease_file, low_memory=False)"
   ],
   "id": "a1f3b986422b3335",
   "outputs": [],
   "execution_count": 39
  },
  {
   "metadata": {},
   "cell_type": "markdown",
   "source": "### Food Access Summary",
   "id": "2352a646daa80788"
  },
  {
   "metadata": {
    "ExecuteTime": {
     "end_time": "2025-07-20T14:44:48.365216Z",
     "start_time": "2025-07-20T14:44:48.354782Z"
    }
   },
   "cell_type": "code",
   "source": [
    "# Group by state and calculate percent of tracts marked as LILATracts_1And10\n",
    "food_summary = (\n",
    "    food_df.groupby(\"State\")\n",
    "    .agg(\n",
    "        total_tracts=(\"CensusTract\", \"count\"),\n",
    "        lilatracts_1and10=(\"LILATracts_1And10\", \"sum\"),\n",
    "        lilatracts_halfand10=(\"LILATracts_halfAnd10\", \"sum\"),\n",
    "        poverty_rate_avg=(\"PovertyRate\", \"mean\"),\n",
    "        median_income_avg=(\"MedianFamilyIncome\", \"mean\")\n",
    "    )\n",
    "    .assign(\n",
    "        percent_lila_1and10=lambda df: 100 * df.lilatracts_1and10 / df.total_tracts,\n",
    "        percent_lila_halfand10=lambda df: 100 * df.lilatracts_halfand10 / df.total_tracts\n",
    "    )\n",
    "    .reset_index()\n",
    ")"
   ],
   "id": "ad06b511f63f5d8",
   "outputs": [],
   "execution_count": 44
  },
  {
   "metadata": {},
   "cell_type": "markdown",
   "source": "### Chronic Disease Filtering",
   "id": "d4be583a608375b"
  },
  {
   "metadata": {
    "ExecuteTime": {
     "end_time": "2025-07-20T14:49:25.906752Z",
     "start_time": "2025-07-20T14:49:25.873530Z"
    }
   },
   "cell_type": "code",
   "source": [
    "# Standardize disease terms\n",
    "relevant_topics = [\"Nutrition, Physical Activity, and Weight Status\", \"Diabetes\", \"Cardiovascular Disease\"]\n",
    "relevant_responses = [\"Crude Prevalence\", \"Age-adjusted Prevalence\", \"Proportion\"]\n",
    "\n",
    "disease_filtered = disease_df[\n",
    "    (disease_df[\"Topic\"].isin(relevant_topics)) &\n",
    "    (disease_df[\"DataValueType\"].isin(relevant_responses)) &\n",
    "    (disease_df[\"StratificationCategory1\"] == \"Overall\")\n",
    "]\n",
    "\n",
    "# Keep only the latest year per state/topic/question\n",
    "disease_latest = (\n",
    "    disease_filtered.sort_values(\"YearStart\", ascending=False)\n",
    "    .drop_duplicates(subset=[\"State\", \"Topic\", \"Question\"])\n",
    ")\n",
    "\n",
    "disease_latest = disease_latest.drop(columns=[\"YearStart\", \"YearEnd\"])\n",
    "\n",
    "disease_pivot = disease_latest.pivot_table(\n",
    "    index=\"State\",\n",
    "    columns=\"Question\",\n",
    "    values=\"DataValue\",\n",
    "    aggfunc=\"first\"\n",
    ").reset_index()\n"
   ],
   "id": "7cdf7d8fde3c43ca",
   "outputs": [],
   "execution_count": 50
  },
  {
   "metadata": {},
   "cell_type": "markdown",
   "source": "### Merge",
   "id": "af636a5bacaf8ea7"
  },
  {
   "metadata": {
    "ExecuteTime": {
     "end_time": "2025-07-20T14:50:07.625644Z",
     "start_time": "2025-07-20T14:50:07.622422Z"
    }
   },
   "cell_type": "code",
   "source": "merged = pd.merge(food_summary, disease_pivot, on=\"State\", how=\"inner\")",
   "id": "705a9e7051aef106",
   "outputs": [],
   "execution_count": 52
  },
  {
   "metadata": {
    "ExecuteTime": {
     "end_time": "2025-07-20T14:50:08.677275Z",
     "start_time": "2025-07-20T14:50:08.673171Z"
    }
   },
   "cell_type": "code",
   "source": [
    "# Save result\n",
    "os.makedirs(processed_data_path, exist_ok=True)\n",
    "merged.to_csv(output_file, index=False)\n",
    "\n",
    "print(f\"✅ Processed data saved to {output_file}\")"
   ],
   "id": "296402da17782948",
   "outputs": [
    {
     "name": "stdout",
     "output_type": "stream",
     "text": [
      "✅ Processed data saved to C:\\Users\\mjben\\PycharmProjects\\Food_Deserts_Capstone\\data\\processed\\merged_summary.csv\n"
     ]
    }
   ],
   "execution_count": 53
  }
 ],
 "metadata": {
  "kernelspec": {
   "display_name": "Python 3 (ipykernel)",
   "language": "python",
   "name": "python3"
  },
  "language_info": {
   "codemirror_mode": {
    "name": "ipython",
    "version": 3
   },
   "file_extension": ".py",
   "mimetype": "text/x-python",
   "name": "python",
   "nbconvert_exporter": "python",
   "pygments_lexer": "ipython3",
   "version": "3.13.0"
  }
 },
 "nbformat": 4,
 "nbformat_minor": 5
}
